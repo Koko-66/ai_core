{
  "cells": [
    {
      "cell_type": "markdown",
      "metadata": {
        "id": "view-in-github",
        "colab_type": "text"
      },
      "source": [
        "<a href=\"https://colab.research.google.com/github/Koko-66/ai_core/blob/main/milestone_2.ipynb\" target=\"_parent\"><img src=\"https://colab.research.google.com/assets/colab-badge.svg\" alt=\"Open In Colab\"/></a>"
      ]
    },
    {
      "cell_type": "markdown",
      "metadata": {
        "id": "i_xLFYD8a_h3"
      },
      "source": [
        "# Movie Recommendation - Milestone 2"
      ]
    },
    {
      "cell_type": "markdown",
      "metadata": {
        "id": "a9Bs9h5WM9NU"
      },
      "source": [
        "<details>\n",
        "  <summary>Click in any of these links to compare your solution with ours up to this point</summary>\n",
        "  <p>\n",
        "    <a href=\"https://colab.research.google.com/github/AI-Core/movie-recommendation-solutions/blob/main/solution_m1.ipynb\" target=\"_parent\">Solution for milestone 1</a>\n",
        "  </p>\n",
        "</details>"
      ]
    },
    {
      "cell_type": "code",
      "execution_count": 1,
      "metadata": {
        "colab": {
          "base_uri": "https://localhost:8080/"
        },
        "id": "RLn-_E7Ba3Q4",
        "outputId": "347e0473-b978-4bef-8faf-d90b7206b819"
      },
      "outputs": [
        {
          "output_type": "stream",
          "name": "stdout",
          "text": [
            "  Preparing metadata (setup.py) ... \u001b[?25l\u001b[?25hdone\n",
            "  Preparing metadata (setup.py) ... \u001b[?25l\u001b[?25hdone\n",
            "  Building wheel for movie-rec-marking-aicore (setup.py) ... \u001b[?25l\u001b[?25hdone\n",
            "  Building wheel for timeout-decorator (setup.py) ... \u001b[?25l\u001b[?25hdone\n"
          ]
        }
      ],
      "source": [
        "#@title # Run this cell before you start coding { display-mode: \"form\" }\n",
        "#@markdown Don’t worry about what’s in this collapsed cell, you’re not expected to understand the code inside\n",
        "\n",
        "!pip install movie-rec-marking-aicore --upgrade --quiet\n",
        "!wget https://aicore-files.s3.amazonaws.com/Movie-Recommendation/movies-head.json --quiet\n",
        "import json\n",
        "from movie_rec_marking import test_milestone_2\n",
        "\n",
        "# Load the movies\n",
        "with open('movies-head.json', 'r') as f:\n",
        "    movies = json.load(f)"
      ]
    },
    {
      "cell_type": "markdown",
      "metadata": {
        "id": "MYQw48Lqa3Q4"
      },
      "source": [
        "# Task 1\n",
        "### Display all the movies' titles\n",
        "\n",
        "Define a function called `print_every_movie_title` that goes through the list of movies and prints each of their title, one by one. The function should not return anything"
      ]
    },
    {
      "cell_type": "code",
      "execution_count": 14,
      "metadata": {
        "id": "1UpT9BAym0iW",
        "colab": {
          "base_uri": "https://localhost:8080/"
        },
        "outputId": "96365c71-ca88-415e-af87-2813c5ab09a0"
      },
      "outputs": [
        {
          "output_type": "stream",
          "name": "stdout",
          "text": [
            "The Shawshank Redemption\n",
            "The Godfather\n",
            "The Dark Knight\n",
            "The Godfather: Part II\n",
            "12 Angry Men\n"
          ]
        }
      ],
      "source": [
        "## Write your code here\n",
        "def print_every_movie_title(movies):\n",
        "  for movie in movies:\n",
        "    print(movie[\"title\"])\n",
        "\n",
        "print_every_movie_title(movies)"
      ]
    },
    {
      "cell_type": "code",
      "execution_count": 15,
      "metadata": {
        "colab": {
          "base_uri": "https://localhost:8080/"
        },
        "id": "gL--K2RuM9NV",
        "outputId": "f2009569-3ac2-4458-e462-4a39fbe09378"
      },
      "outputs": [
        {
          "output_type": "stream",
          "name": "stdout",
          "text": [
            "Great! The function prints every movie name\n",
            "You can continue to the next task\n"
          ]
        }
      ],
      "source": [
        "#@title Run this cell to check your solution { display-mode: \"form\", run: \"auto\" }\n",
        "assert 'print_every_movie_title' in globals(), \"Please define the function print_every_movie_title\"\n",
        "task_1 = test_milestone_2.check_print_every_movie_title(print_every_movie_title)"
      ]
    },
    {
      "cell_type": "markdown",
      "metadata": {
        "id": "eM2SXQGOM9NV"
      },
      "source": [
        "# Task 2\n",
        "\n",
        "### What is the length of a given movie's description?\n",
        "\n",
        "Define a function called `get_movie_description_length` that takes in one of the movies from the list of movies.\n",
        "You should pass the entire dictionary from the relevant entry in the list of movies as an input argument to the function.\n",
        "The function should then return the exact number of characters in its description, formatted as an integer.\n",
        "\n",
        "Test the function you have defined by using it to check the description of the the first entry in the `movies` list (i.e. `movies[0]`)."
      ]
    },
    {
      "cell_type": "code",
      "execution_count": 17,
      "metadata": {
        "colab": {
          "base_uri": "https://localhost:8080/"
        },
        "id": "uuECQK3aM9NV",
        "outputId": "a19505e4-aba9-4275-d73d-6e96e31343fb"
      },
      "outputs": [
        {
          "output_type": "stream",
          "name": "stdout",
          "text": [
            "118\n",
            "149\n"
          ]
        }
      ],
      "source": [
        "## Write your code here\n",
        "def get_movie_description_length(movie):\n",
        "  return int(len(movie[\"description\"]))\n",
        "\n",
        "print(get_movie_description_length(movies[0]))\n",
        "print(get_movie_description_length(movies[1]))\n"
      ]
    },
    {
      "cell_type": "code",
      "execution_count": 16,
      "metadata": {
        "colab": {
          "base_uri": "https://localhost:8080/"
        },
        "id": "HWhU3WT1M9NV",
        "outputId": "385a65e7-5a8a-42af-9b47-e4447bfde117"
      },
      "outputs": [
        {
          "output_type": "stream",
          "name": "stdout",
          "text": [
            "testing  the function with movie:  The Godfather\n",
            "Testing that the function can accept a movie as an argument, and that it returns the correct length of the description as an integer type\n",
            "Great! The function returns the correct length of the description:  149\n",
            "You can continue to the next task\n"
          ]
        }
      ],
      "source": [
        "#@title Run this cell to check your solution { display-mode: \"form\", run: \"auto\" }\n",
        "assert 'get_movie_description_length' in globals(), \"Please define the function get_movie_description_length\"\n",
        "task_2 = test_milestone_2.check_get_movie_description_length(get_movie_description_length, task_1)"
      ]
    },
    {
      "cell_type": "markdown",
      "metadata": {
        "id": "ub-HKw6VM9NW"
      },
      "source": [
        "# Task 3\n",
        "\n",
        "### What is the average length of any movie description?\n",
        "\n",
        "Define a function called `get_avg_movie_description_length` that returns the average number of characters in each movie description, averaged across the whole dataset.\n",
        "\n",
        "The function should return a floating point number, rounded to 1 decimal place.\n",
        "\n",
        "To avoid repeating code, make sure that you use the function you defined earlier for getting the movie description length inside this function."
      ]
    },
    {
      "cell_type": "code",
      "execution_count": 20,
      "metadata": {
        "colab": {
          "base_uri": "https://localhost:8080/"
        },
        "id": "lXrizprzM9NW",
        "outputId": "7c4150b8-1abd-417d-99d4-9ed91dfd882d"
      },
      "outputs": [
        {
          "output_type": "stream",
          "name": "stdout",
          "text": [
            "160.8\n"
          ]
        }
      ],
      "source": [
        "## Write your code here\n",
        "def get_avg_movie_description_length(movies):\n",
        "  total_desc_len = 0\n",
        "  for movie in movies:\n",
        "    total_desc_len += get_movie_description_length(movie)\n",
        "  return round((total_desc_len / len(movies)),1)\n",
        "\n",
        "print(get_avg_movie_description_length(movies))"
      ]
    },
    {
      "cell_type": "code",
      "execution_count": 21,
      "metadata": {
        "colab": {
          "base_uri": "https://localhost:8080/"
        },
        "id": "SHLlGk-nM9NW",
        "outputId": "a7c15d56-e949-4db5-aafd-5dc333b70100"
      },
      "outputs": [
        {
          "output_type": "stream",
          "name": "stdout",
          "text": [
            "Great! The \"get_avg_movie_description_length\" function returns the correct average length of the description\n",
            "You can continue to the next task\n"
          ]
        }
      ],
      "source": [
        "#@title Run this cell to check your solution { display-mode: \"form\", run: \"auto\" }\n",
        "assert 'get_avg_movie_description_length' in globals(), \"Please define the function get_avg_movie_description_length\"\n",
        "task_3 = test_milestone_2.check_get_avg_movie_description_length(get_avg_movie_description_length, task_2)"
      ]
    },
    {
      "cell_type": "markdown",
      "metadata": {
        "id": "CQUv90KgM9NW"
      },
      "source": [
        "# Task 4\n",
        "\n",
        "### What is the maximum length of any movie name?\n",
        "\n",
        "Define a function called `get_max_movie_name_length`.\n",
        "\n",
        "It should return two things, in this order:\n",
        "\n",
        "1. The integer number of the length of the longest movie name\n",
        "2. The name of the movie"
      ]
    },
    {
      "cell_type": "code",
      "execution_count": 23,
      "metadata": {
        "colab": {
          "base_uri": "https://localhost:8080/"
        },
        "id": "Da3X2baBM9NW",
        "outputId": "e76e701c-2bd9-4285-ade0-60480093217c"
      },
      "outputs": [
        {
          "output_type": "stream",
          "name": "stdout",
          "text": [
            "(24, 'The Shawshank Redemption')\n"
          ]
        }
      ],
      "source": [
        "## Write your code here\n",
        "def get_max_movie_name_length(movies):\n",
        "  longest_title_len = 0\n",
        "  longst_title = \"\"\n",
        "  for movie in movies:\n",
        "    current_title = movie[\"title\"]\n",
        "    if len(current_title) > longest_title_len:\n",
        "      longest_title_len = len(current_title)\n",
        "      longest_title = current_title\n",
        "  return longest_title_len, longest_title\n",
        "print(get_max_movie_name_length(movies))"
      ]
    },
    {
      "cell_type": "code",
      "execution_count": 24,
      "metadata": {
        "colab": {
          "base_uri": "https://localhost:8080/"
        },
        "id": "QP5VBxGKM9NW",
        "outputId": "76c17096-f1f5-49a3-844e-eab8d2b5719a"
      },
      "outputs": [
        {
          "output_type": "stream",
          "name": "stdout",
          "text": [
            "Great! The \"get_max_movie_name_length\" function returns the correct maximum length of the movie name:  (24, 'The Shawshank Redemption')\n",
            "Nice job! You have complete the second milestone of the project!\n"
          ]
        }
      ],
      "source": [
        "#@title Run this cell to check your solution { display-mode: \"form\", run: \"auto\" }\n",
        "assert 'get_max_movie_name_length' in globals(), \"Please define the function get_max_movie_name_length\"\n",
        "task_4 = test_milestone_2.check_get_max_movie_name_length(get_max_movie_name_length, task_3)"
      ]
    },
    {
      "cell_type": "code",
      "source": [],
      "metadata": {
        "id": "HbDDp3V4QUDU"
      },
      "execution_count": null,
      "outputs": []
    }
  ],
  "metadata": {
    "colab": {
      "provenance": [],
      "include_colab_link": true
    },
    "kernelspec": {
      "display_name": "base",
      "language": "python",
      "name": "python3"
    },
    "language_info": {
      "codemirror_mode": {
        "name": "ipython",
        "version": 3
      },
      "file_extension": ".py",
      "mimetype": "text/x-python",
      "name": "python",
      "nbconvert_exporter": "python",
      "pygments_lexer": "ipython3",
      "version": "3.9.12 (main, Apr  5 2022, 06:56:58) \n[GCC 7.5.0]"
    },
    "orig_nbformat": 4,
    "vscode": {
      "interpreter": {
        "hash": "a2592652612463181e69ac003232387e3e9a99279aa6b168e76f5df16d5110f4"
      }
    }
  },
  "nbformat": 4,
  "nbformat_minor": 0
}