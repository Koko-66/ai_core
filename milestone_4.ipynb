{
  "cells": [
    {
      "cell_type": "markdown",
      "metadata": {
        "id": "view-in-github",
        "colab_type": "text"
      },
      "source": [
        "<a href=\"https://colab.research.google.com/github/Koko-66/ai_core/blob/main/milestone_4.ipynb\" target=\"_parent\"><img src=\"https://colab.research.google.com/assets/colab-badge.svg\" alt=\"Open In Colab\"/></a>"
      ]
    },
    {
      "cell_type": "markdown",
      "metadata": {
        "id": "i_xLFYD8a_h3"
      },
      "source": [
        "# Movie Recommendation - Milestone 4\n"
      ]
    },
    {
      "cell_type": "markdown",
      "metadata": {
        "id": "aH4C-7CfQjSo"
      },
      "source": [
        "<details>\n",
        "  <summary>Click in any of these links to compare your solution with ours up to this point</summary>\n",
        "  <p>\n",
        "    <a href=\"https://colab.research.google.com/github/AI-Core/movie-recommendation-solutions/blob/main/solution_m1.ipynb\" target=\"_parent\">Solution for milestone 1</a>\n",
        "  </p>\n",
        "  <p>\n",
        "    <a href=\"https://colab.research.google.com/github/AI-Core/movie-recommendation-solutions/blob/main/solution_m2.ipynb\" target=\"_parent\">Solution for milestone 2</a>\n",
        "  </p>\n",
        "    <p>\n",
        "        <a href=\"https://colab.research.google.com/github/AI-Core/movie-recommendation-solutions/blob/main/solution_m3.ipynb\" target=\"_parent\">Solution for milestone 3</a>\n",
        "    </p>\n",
        "</details>"
      ]
    },
    {
      "cell_type": "code",
      "execution_count": 1,
      "metadata": {
        "colab": {
          "base_uri": "https://localhost:8080/"
        },
        "id": "99di9MqyQjSo",
        "outputId": "21c76f48-d911-45f8-d46e-2fcea173eac1"
      },
      "outputs": [
        {
          "output_type": "stream",
          "name": "stdout",
          "text": [
            "  Preparing metadata (setup.py) ... \u001b[?25l\u001b[?25hdone\n",
            "  Preparing metadata (setup.py) ... \u001b[?25l\u001b[?25hdone\n",
            "  Building wheel for movie-rec-marking-aicore (setup.py) ... \u001b[?25l\u001b[?25hdone\n",
            "  Building wheel for timeout-decorator (setup.py) ... \u001b[?25l\u001b[?25hdone\n"
          ]
        }
      ],
      "source": [
        "#@title # Run the following cell to add the `movies` variable and the `get_unique_genres` and `get_movies_in_genre` functions will be available for you to use. { display-mode: \"form\" }\n",
        "#@markdown Don’t worry about what’s in this collapsed cell, you’re not expected to understand the code inside\n",
        "\n",
        "!pip install movie-rec-marking-aicore --upgrade --quiet\n",
        "!wget https://aicore-files.s3.amazonaws.com/Movie-Recommendation/movies.json --quiet\n",
        "from movie_rec_marking import test_milestone_4\n",
        "import json\n",
        "with open('movies.json', 'r') as f:\n",
        "    movies = json.load(f)\n",
        "\n",
        "def get_unique_genres():\n",
        "    genres = []\n",
        "    for movie in movies:\n",
        "        genres.append(movie[\"genre\"])\n",
        "    genres = set(genres)\n",
        "    return genres\n",
        "\n",
        "def get_movies_in_genre(genre):\n",
        "    movies_in_genre = []\n",
        "    for movie in movies:\n",
        "        if movie[\"genre\"] == genre:\n",
        "            movies_in_genre.append(movie)\n",
        "    return movies_in_genre"
      ]
    },
    {
      "cell_type": "markdown",
      "metadata": {
        "id": "MYQw48Lqa3Q4"
      },
      "source": [
        "# Task 1\n",
        "### Ask the user what genre they are interested in\n",
        "\n",
        "Before you ask a user for their input, print out all of the available options. Get this from your `get_unique_genre`s method defined earlier.\n",
        "\n",
        "Then, take a user input using the `input()` function and assign it to the variable genre_choice.\n",
        "\n",
        "Put all of this in a function called `get_user_genre_choice`.\n",
        "\n",
        "Open this notebook  to get started, and follow the instructions for this milestone.\n",
        "\n"
      ]
    },
    {
      "cell_type": "code",
      "execution_count": 16,
      "metadata": {
        "id": "1UpT9BAym0iW",
        "colab": {
          "base_uri": "https://localhost:8080/",
          "height": 71
        },
        "outputId": "38d8904a-22ff-402d-955a-8f8089724da7"
      },
      "outputs": [
        {
          "name": "stdout",
          "output_type": "stream",
          "text": [
            "Please select a genre for your movie, here are your options: Drama, Adventure, Crime, Film-Noir, Comedy, Western, Mystery, Biography, Horror, Action, Animation\n",
            "Which genre would you like to choose? Drama\n"
          ]
        },
        {
          "output_type": "execute_result",
          "data": {
            "text/plain": [
              "'Drama'"
            ],
            "application/vnd.google.colaboratory.intrinsic+json": {
              "type": "string"
            }
          },
          "metadata": {},
          "execution_count": 16
        }
      ],
      "source": [
        "## Write your code here\n",
        "def get_user_genre_choice():\n",
        "  print(f\"Please select a genre for your movie, here are your options: {', '.join(get_unique_genres())}\")\n",
        "  genre_choice = input(\"Which genre would you like to choose? \")\n",
        "  return genre_choice\n",
        "\n",
        "get_user_genre_choice()"
      ]
    },
    {
      "cell_type": "code",
      "execution_count": 17,
      "metadata": {
        "colab": {
          "base_uri": "https://localhost:8080/"
        },
        "id": "FVSdsEHrQjSp",
        "outputId": "083f1fa9-27c8-40d1-bbbf-6ca2ddc8ef3e"
      },
      "outputs": [
        {
          "output_type": "stream",
          "name": "stdout",
          "text": [
            "Great! The \"get_user_genre_choice\" function prints the correct genre\n",
            "You can continue to the next task\n"
          ]
        }
      ],
      "source": [
        "#@title Run this cell to check your solution { display-mode: \"form\", run: \"auto\" }\n",
        "\n",
        "assert 'get_user_genre_choice' in globals(), \"You need to define a function called get_user_genre_choice\"\n",
        "task_1 = test_milestone_4.check_get_user_genre_choice(get_user_genre_choice)"
      ]
    },
    {
      "cell_type": "markdown",
      "metadata": {
        "id": "4eTsOfMzQjSp"
      },
      "source": [
        "# Task 2\n",
        "\n",
        "### Show the movies in the selected genre\n",
        "\n",
        "Write some code to show the movies in a selected genre (you don't need to define this as a function yet):\n",
        "\n",
        "Use your `get_movies_in_genre` function to get a list of movies in the genre selected.\n",
        "\n",
        "\n",
        "Print each movie within the selected genre on a new line. At the start of the line, print the integer index of the movie.\n",
        "\n",
        "\n",
        "Make sure to:\n",
        "\n",
        "- Use the built-in `enumerate` function\n",
        "- Use an f-string to format the printed text\n",
        "\n",
        "To avoid confusing users, make the indexing start from 1 rather than zero. For example, one line should look something like: `\"3: The Dark Knight\"`."
      ]
    },
    {
      "cell_type": "code",
      "execution_count": 14,
      "metadata": {
        "colab": {
          "base_uri": "https://localhost:8080/"
        },
        "id": "7JuxEJwYQjSp",
        "outputId": "ceef8012-06f4-4d79-a09f-f3c314117cc7"
      },
      "outputs": [
        {
          "output_type": "stream",
          "name": "stdout",
          "text": [
            "Please select a genre for your movie, here are your options: Drama, Adventure, Crime, Film-Noir, Comedy, Western, Mystery, Biography, Horror, Action, Animation\n",
            "Which genre would you like to choose? Crime\n",
            "1. Title: The Godfather\n",
            "Desccription: The aging patriarch of an organized crime dynasty in postwar New York City transfers control of his clandestine empire to his reluctant youngest son.\n",
            "\n",
            "2. Title: The Godfather: Part II\n",
            "Desccription: The early life and career of Vito Corleone in 1920s New York City is portrayed, while his son, Michael, expands and tightens his grip on the family crime syndicate.\n",
            "\n",
            "3. Title: 12 Angry Men\n",
            "Desccription: The jury in a New York City murder trial is frustrated by a single member whose skeptical caution forces them to more carefully consider the evidence before jumping to a hasty verdict.\n",
            "\n",
            "4. Title: Pulp Fiction\n",
            "Desccription: The lives of two mob hitmen, a boxer, a gangster and his wife, and a pair of diner bandits intertwine in four tales of violence and redemption.\n",
            "\n",
            "5. Title: Seven\n",
            "Desccription: Two detectives, a rookie and a veteran, hunt a serial killer who uses the seven deadly sins as his motives.\n",
            "\n",
            "6. Title: The Silence of the Lambs\n",
            "Desccription: A young F.B.I. cadet must receive the help of an incarcerated and manipulative cannibal killer to help catch another serial killer, a madman who skins his victims.\n",
            "\n",
            "7. Title: City of God\n",
            "Desccription: In the slums of Rio, two kids' paths diverge as one struggles to become a photographer and the other a kingpin.\n",
            "\n",
            "8. Title: The Green Mile\n",
            "Desccription: The lives of guards on Death Row are affected by one of their charges: a black man accused of child murder and rape, yet who has a mysterious gift.\n",
            "\n",
            "9. Title: American History X\n",
            "Desccription: A former neo-nazi skinhead tries to prevent his younger brother from going down the same wrong path that he did.\n",
            "\n",
            "10. Title: The Departed\n",
            "Desccription: An undercover cop and a mole in the police attempt to identify each other while infiltrating an Irish gang in South Boston.\n",
            "\n",
            "11. Title: The Usual Suspects\n",
            "Desccription: A sole survivor tells of the twisty events leading up to a horrific gun battle on a boat, which began when five criminals met at a seemingly random police lineup.\n",
            "\n",
            "12. Title: Witness for the Prosecution\n",
            "Desccription: A veteran British barrister must defend his client in a murder trial that has surprise after surprise.\n",
            "\n",
            "13. Title: Joker\n",
            "Desccription: A mentally troubled stand-up comedian embarks on a downward spiral that leads to the creation of an iconic villain.\n",
            "\n",
            "14. Title: Once Upon a Time in America\n",
            "Desccription: A former Prohibition-era Jewish gangster returns to the Lower East Side of Manhattan 35 years later, where he must once again confront the ghosts and regrets of his old life.\n",
            "\n",
            "15. Title: High and Low\n",
            "Desccription: An executive of a Yokohama shoe company becomes a victim of extortion when his chauffeur's son is kidnapped by mistake and held for ransom.\n",
            "\n",
            "16. Title: Reservoir Dogs\n",
            "Desccription: When a simple jewelry heist goes horribly wrong, the surviving criminals begin to suspect that one of them is a police informant.\n",
            "\n",
            "17. Title: M\n",
            "Desccription: When the police in a German city are unable to catch a child-murderer, other criminals join in the manhunt.\n",
            "\n",
            "18. Title: A Clockwork Orange\n",
            "Desccription: In the future, a sadistic gang leader is imprisoned and volunteers for a conduct-aversion experiment, but it doesn't go as planned.\n",
            "\n",
            "19. Title: Double Indemnity\n",
            "Desccription: A Los Angeles insurance representative lets an alluring housewife seduce him into a scheme of insurance fraud and murder that arouses the suspicion of his colleague, an insurance investigator.\n",
            "\n",
            "20. Title: Scarface\n",
            "Desccription: In 1980 Miami, a determined Cuban immigrant takes over a drug cartel and succumbs to greed.\n",
            "\n",
            "21. Title: To Kill a Mockingbird\n",
            "Desccription: Atticus Finch, a widowed lawyer in Depression-era Alabama, defends a black man against an undeserved rape charge, and his children against prejudice.\n",
            "\n",
            "22. Title: Taxi Driver\n",
            "Desccription: A mentally unstable veteran works as a nighttime taxi driver in New York City, where the perceived decadence and sleaze fuels his urge for violent action.\n",
            "\n",
            "23. Title: L.A. Confidential\n",
            "Desccription: As corruption grows in 1950s Los Angeles, three policemen - one strait-laced, one brutal, and one sleazy - investigate a series of murders with their own brand of justice.\n",
            "\n",
            "24. Title: Casino\n",
            "Desccription: A tale of greed, deception, money, power, and murder occur between two best friends: a mafia enforcer and a casino executive compete against each other over a gambling empire, and over a fast-living and fast-loving socialite.\n",
            "\n",
            "25. Title: Rashomon\n",
            "Desccription: The rape of a bride and the murder of her samurai husband are recalled from the perspectives of a bandit, the bride, the samurai's ghost and a woodcutter.\n",
            "\n",
            "26. Title: No Country for Old Men\n",
            "Desccription: Violence and mayhem ensue after a hunter stumbles upon a drug deal gone wrong and more than two million dollars in cash near the Rio Grande.\n",
            "\n",
            "27. Title: Dial M for Murder\n",
            "Desccription: A former tennis star arranges the murder of his adulterous wife.\n",
            "\n",
            "28. Title: Fargo\n",
            "Desccription: Minnesota car salesman Jerry Lundegaard's inept crime falls apart due to his and his henchmen's bungling and the persistent police work of the quite pregnant Marge Gunderson.\n",
            "\n",
            "29. Title: Prisoners\n",
            "Desccription: When Keller Dover's daughter and her friend go missing, he takes matters into his own hands as the police pursue multiple leads and the pressure mounts.\n",
            "\n",
            "30. Title: On the Waterfront\n",
            "Desccription: An ex-prize fighter turned New Jersey longshoreman struggles to stand up to his corrupt union bosses, including his older brother, as he starts to connect with the grieving sister of one of the syndicate's victims.\n",
            "\n",
            "31. Title: Memories of Murder\n",
            "Desccription: In a small Korean province in 1986, two detectives struggle with the case of multiple young women being found raped and murdered by an unknown culprit.\n",
            "\n",
            "32. Title: Jai Bhim\n",
            "Desccription: When a tribal man is arrested for a case of alleged theft, his wife turns to a human-rights lawyer to help bring justice.\n",
            "\n",
            "33. Title: La Haine\n",
            "Desccription: 24 hours in the lives of three young men in the French suburbs the day after a violent riot.\n",
            "\n",
            "34. Title: Cool Hand Luke\n",
            "Desccription: A laid back Southern man is sentenced to two years in a rural prison, but refuses to conform.\n",
            "\n",
            "35. Title: The 400 Blows\n",
            "Desccription: A young boy, left without attention, delves into a life of petty crime.\n",
            "\n"
          ]
        }
      ],
      "source": [
        "## Write your code here\n",
        "genre_choice = get_user_genre_choice()\n",
        "movie_choices = get_movies_in_genre(genre_choice)\n",
        "\n",
        "for index, movie in enumerate(movie_choices, start=1):\n",
        "  print(f\"{index}. Title: {movie['title']}\\nDesccription: {movie['description']}\\n\")"
      ]
    },
    {
      "cell_type": "code",
      "execution_count": 18,
      "metadata": {
        "colab": {
          "base_uri": "https://localhost:8080/"
        },
        "id": "ivQFIUwlQjSp",
        "outputId": "48502714-02fd-4007-e818-190a34c3033f"
      },
      "outputs": [
        {
          "output_type": "stream",
          "name": "stdout",
          "text": [
            "Great! The \"get_movies_in_genre\" function returns the correct movies\n",
            "You can continue to the next task\n"
          ]
        }
      ],
      "source": [
        "#@title Enter your solution here { display-mode: \"form\", run: \"auto\" }\n",
        "#@markdown For Action, which is the movie corresponding to index 12?\n",
        "first_movie = \"Gladiator\" #@param [\"The Dark Knight\", \"Leon\", \"Harakiri\", \"Gladiator\", \"Pirates of the Caribbean: The Curse of the Black Pearl\"] {allow-input: true}\n",
        "#@markdown For Drama, which is the movie corresponding to index 7?\n",
        "second_movie = \"Parasite\" #@param [\"The Help\", \"The Shawshank Redemption\", \"The Prestige\", \"Parasite\", \"Saving Private Ryan\"] {allow-input: true}\n",
        "\n",
        "#@markdown For Crime, which is the movie corresponding to index 26?\n",
        "third_movie = \"No Country for Old Men\" #@param [\"Rashomon\", \"Reservoir Dogs\", \"The Godfather\", \"No Country for Old Men\", \"Dial M for Murder\"] {allow-input: true}\n",
        "task_2 = test_milestone_4.check_get_movies_in_genre(first_movie, second_movie, third_movie, task_1)"
      ]
    },
    {
      "cell_type": "markdown",
      "metadata": {
        "id": "awz4lnb5QjSq"
      },
      "source": [
        "# Task 3\n",
        "\n",
        "### Select and display the details of a movie\n",
        "\n",
        "Define a new function called `get_movie_by_index`. It should first print out all the movies in the genre selected.\n",
        "\n",
        "Then, it should ask the user to select a movie by entering the index of the movie. Assign this to a variable named `selected_movie_index`.\n",
        "\n",
        "\n",
        "HINT: Be careful of what data type is returned from the `input()` function.\n",
        "\n",
        "Print the key-value pairs of the selected movie's dictionary each on a new line.\n",
        "\n",
        "On each line, print the key and the value, separated by a comma.\n",
        "\n",
        "\n",
        "Make sure to use the `.items()` method of the dictionary.\n",
        "\n",
        "\n",
        "Your program should end after this."
      ]
    },
    {
      "cell_type": "code",
      "execution_count": 20,
      "metadata": {
        "colab": {
          "base_uri": "https://localhost:8080/"
        },
        "id": "3qb3eLFyQjSq",
        "outputId": "25cc81da-da8d-40fa-c4e8-e1ebcb8a6e0f"
      },
      "outputs": [
        {
          "output_type": "stream",
          "name": "stdout",
          "text": [
            "Please select a genre for your movie, here are your options: Drama, Adventure, Crime, Film-Noir, Comedy, Western, Mystery, Biography, Horror, Action, Animation\n",
            "Which genre would you like to choose? Drama\n",
            "1. Title: The Shawshank Redemption\n",
            "Desccription: Two imprisoned men bond over a number of years, finding solace and eventual redemption through acts of common decency.\n",
            "\n",
            "2. Title: Forrest Gump\n",
            "Desccription: The presidencies of Kennedy and Johnson, the Vietnam War, the Watergate scandal and other historical events unfold from the perspective of an Alabama man with an IQ of 75, whose only desire is to be reunited with his childhood sweetheart.\n",
            "\n",
            "3. Title: Fight Club\n",
            "Desccription: An insomniac office worker and a devil-may-care soap maker form an underground fight club that evolves into much more.\n",
            "\n",
            "4. Title: One Flew Over the Cuckoo's Nest\n",
            "Desccription: In the Fall of 1963, a Korean War veteran and criminal pleads insanity and is admitted to a mental institution, where he rallies up the scared patients against the tyrannical nurse.\n",
            "\n",
            "5. Title: It's a Wonderful Life\n",
            "Desccription: An angel is sent from Heaven to help a desperately frustrated businessman by showing him what life would have been like if he had never existed.\n",
            "\n",
            "6. Title: Saving Private Ryan\n",
            "Desccription: Following the Normandy Landings, a group of U.S. soldiers go behind enemy lines to retrieve a paratrooper whose brothers have been killed in action.\n",
            "\n",
            "7. Title: Parasite\n",
            "Desccription: Greed and class discrimination threaten the newly formed symbiotic relationship between the wealthy Park family and the destitute Kim clan.\n",
            "\n",
            "8. Title: The Prestige\n",
            "Desccription: After a tragic accident, two stage magicians in 1890s London engage in a battle to create the ultimate illusion while sacrificing everything they have to outwit each other.\n",
            "\n",
            "9. Title: Whiplash\n",
            "Desccription: A promising young drummer enrolls at a cut-throat music conservatory where his dreams of greatness are mentored by an instructor who will stop at nothing to realize a student's potential.\n",
            "\n",
            "10. Title: Casablanca\n",
            "Desccription: A cynical expatriate American cafe owner struggles to decide whether or not to help his former lover and her fugitive husband escape the Nazis in French Morocco.\n",
            "\n",
            "11. Title: Cinema Paradiso\n",
            "Desccription: A filmmaker recalls his childhood when falling in love with the pictures at the cinema of his home village and forms a deep friendship with the cinema's projectionist.\n",
            "\n",
            "12. Title: Apocalypse Now\n",
            "Desccription: A U.S. Army officer serving in Vietnam is tasked with assassinating a renegade Special Forces Colonel who sees himself as a god.\n",
            "\n",
            "13. Title: Django Unchained\n",
            "Desccription: With the help of a German bounty-hunter, a freed slave sets out to rescue his wife from a brutal plantation-owner in Mississippi.\n",
            "\n",
            "14. Title: The Lives of Others\n",
            "Desccription: In 1984 East Berlin, an agent of the secret police, conducting surveillance on a writer and his lover, finds himself becoming increasingly absorbed by their lives.\n",
            "\n",
            "15. Title: Sunset Blvd.\n",
            "Desccription: A screenwriter develops a dangerous relationship with a faded film star determined to make a triumphant return.\n",
            "\n",
            "16. Title: Paths of Glory\n",
            "Desccription: After refusing to attack an enemy position, a general accuses the soldiers of cowardice and their commanding officer must defend them.\n",
            "\n",
            "17. Title: The Shining\n",
            "Desccription: A family heads to an isolated hotel for the winter where a sinister presence influences the father into violence, while his psychic son sees horrific forebodings from both past and future.\n",
            "\n",
            "18. Title: American Beauty\n",
            "Desccription: A sexually frustrated suburban father has a mid-life crisis after becoming infatuated with his daughter's best friend.\n",
            "\n",
            "19. Title: Das Boot\n",
            "Desccription: A German U-boat stalks the frigid waters of the North Atlantic as its young crew experience the sheer terror and claustrophobic world of a submariner in World War II.\n",
            "\n",
            "20. Title: Good Will Hunting\n",
            "Desccription: Will Hunting, a janitor at M.I.T., has a gift for mathematics, but needs help from a psychologist to find direction in his life.\n",
            "\n",
            "21. Title: Requiem for a Dream\n",
            "Desccription: The drug-induced utopias of four Coney Island people are shattered when their addictions run deep.\n",
            "\n",
            "22. Title: Eternal Sunshine of the Spotless Mind\n",
            "Desccription: When their relationship turns sour, a couple undergoes a medical procedure to have each other erased from their memories.\n",
            "\n",
            "23. Title: Capernaum\n",
            "Desccription: While serving a five-year sentence for a violent crime, a 12-year-old boy sues his parents for neglect.\n",
            "\n",
            "24. Title: The Hunt\n",
            "Desccription: A teacher lives a lonely life, all the while struggling over his son's custody. His life slowly gets better as he finds love and receives good news from his son, but his new luck is about to be brutally shattered by an innocent little lie.\n",
            "\n",
            "25. Title: Citizen Kane\n",
            "Desccription: Following the death of publishing tycoon Charles Foster Kane, reporters scramble to uncover the meaning of his final utterance: 'Rosebud.'\n",
            "\n",
            "26. Title: Come and See\n",
            "Desccription: After finding an old rifle, a young boy joins the Soviet resistance movement against ruthless German forces and experiences the horrors of World War II.\n",
            "\n",
            "27. Title: Full Metal Jacket\n",
            "Desccription: A pragmatic U.S. Marine observes the dehumanizing effects the Vietnam War has on his fellow recruits from their brutal boot camp training to the bloody street fighting in Hue.\n",
            "\n",
            "28. Title: Ikiru\n",
            "Desccription: A bureaucrat tries to find meaning in his life after he discovers he has terminal cancer.\n",
            "\n",
            "29. Title: Incendies\n",
            "Desccription: Twins journey to the Middle East to discover their family history and fulfill their mother's last wishes.\n",
            "\n",
            "30. Title: Metropolis\n",
            "Desccription: In a futuristic city sharply divided between the working class and the city planners, the son of the city's mastermind falls in love with a working-class prophet who predicts the coming of a savior to mediate their differences.\n",
            "\n",
            "31. Title: A Separation\n",
            "Desccription: A married couple are faced with a difficult decision - to improve the life of their child by moving to another country or to stay in Iran and look after a deteriorating parent who has Alzheimer's disease.\n",
            "\n",
            "32. Title: Bicycle Thieves\n",
            "Desccription: In post-war Italy, a working-class man's bicycle is stolen, endangering his efforts to find work. He and his son set out to find it.\n",
            "\n",
            "33. Title: Like Stars on Earth\n",
            "Desccription: An eight-year-old boy is thought to be a lazy trouble-maker, until the new art teacher has the patience and compassion to discover the real problem behind his struggles in school.\n",
            "\n",
            "34. Title: All About Eve\n",
            "Desccription: A seemingly timid but secretly ruthless ingénue insinuates herself into the lives of an aging Broadway star and her circle of theater friends.\n",
            "\n",
            "35. Title: The Father\n",
            "Desccription: A man refuses all assistance from his daughter as he ages. As he tries to make sense of his changing circumstances, he begins to doubt his loved ones, his own mind and even the fabric of his reality.\n",
            "\n",
            "36. Title: Judgment at Nuremberg\n",
            "Desccription: In 1948, an American court in occupied Germany tries four Nazis judged for war crimes.\n",
            "\n",
            "37. Title: Pan's Labyrinth\n",
            "Desccription: In the Falangist Spain of 1944, the bookish young stepdaughter of a sadistic army officer escapes into an eerie but captivating fantasy world.\n",
            "\n",
            "38. Title: Unforgiven\n",
            "Desccription: Retired Old West gunslinger William Munny reluctantly takes on one last job, with the help of his old partner Ned Logan and a young man, The \"Schofield Kid.\"\n",
            "\n",
            "39. Title: There Will Be Blood\n",
            "Desccription: A story of family, religion, hatred, oil and madness, focusing on a turn-of-the-century prospector in the early days of the business.\n",
            "\n",
            "40. Title: The Sixth Sense\n",
            "Desccription: A frightened, withdrawn Philadelphia boy who communicates with spirits seeks the help of a disheartened child psychologist.\n",
            "\n",
            "41. Title: Chinatown\n",
            "Desccription: A private detective hired to expose an adulterer in 1930s Los Angeles finds himself caught up in a web of deceit, corruption, and murder.\n",
            "\n",
            "42. Title: Gone with the Wind\n",
            "Desccription: The manipulative daughter of a Georgia plantation owner conducts a turbulent romance with a roguish profiteer during the American Civil War and Reconstruction periods.\n",
            "\n",
            "43. Title: The Secret in Their Eyes\n",
            "Desccription: A retired legal counselor writes a novel hoping to find closure for one of his past unresolved homicide cases and for his unreciprocated love with his superior - both of which still haunt him decades later.\n",
            "\n",
            "44. Title: Trainspotting\n",
            "Desccription: Renton, deeply immersed in the Edinburgh drug scene, tries to clean up and get out, despite the allure of the drugs and influence of friends.\n",
            "\n",
            "45. Title: Gran Torino\n",
            "Desccription: Disgruntled Korean War veteran Walt Kowalski sets out to reform his neighbor, Thao Lor, a Hmong teenager who tried to steal Kowalski's prized possession: a 1972 Gran Torino.\n",
            "\n",
            "46. Title: Million Dollar Baby\n",
            "Desccription: A determined woman works with a hardened boxing trainer to become a professional.\n",
            "\n",
            "47. Title: Children of Heaven\n",
            "Desccription: After a boy loses his sister's pair of shoes, he goes on a series of adventures in order to find them. When he can't, he tries a new way to \"win\" a new pair.\n",
            "\n",
            "48. Title: Before Sunrise\n",
            "Desccription: A young man and woman meet on a train in Europe, and wind up spending one evening together in Vienna. Unfortunately, both know that this will probably be their only night together.\n",
            "\n",
            "49. Title: Wild Strawberries\n",
            "Desccription: After living a life marked by coldness, an aging professor is forced to confront the emptiness of his existence.\n",
            "\n",
            "50. Title: Gone Girl\n",
            "Desccription: With his wife's disappearance having become the focus of an intense media circus, a man sees the spotlight turned on him when it's suspected that he may not be innocent.\n",
            "\n",
            "51. Title: The Deer Hunter\n",
            "Desccription: An in-depth examination of the ways in which the Vietnam War impacts and disrupts the lives of several friends in a small steel mill town in Pennsylvania.\n",
            "\n",
            "52. Title: The Seventh Seal\n",
            "Desccription: A knight returning to Sweden after the Crusades seeks answers about life, death, and the existence of God as he plays chess against the Grim Reaper during the Black Plague.\n",
            "\n",
            "53. Title: Room\n",
            "Desccription: Held captive for 7 years in an enclosed space, a woman and her young son finally gain their freedom, allowing the boy to experience the outside world for the first time.\n",
            "\n",
            "54. Title: Tokyo Story\n",
            "Desccription: An old couple visit their children and grandchildren in the city, but receive little attention.\n",
            "\n",
            "55. Title: Rocky\n",
            "Desccription: A small-time Philadelphia boxer gets a supremely rare chance to fight the world heavyweight champion in a bout in which he strives to go the distance for his self-respect.\n",
            "\n",
            "56. Title: Platoon\n",
            "Desccription: Chris Taylor, a neophyte recruit in Vietnam, finds himself caught in a battle of wills between two sergeants, one good and the other evil. A shrewd examination of the brutality of war and the duality of man in conflict.\n",
            "\n",
            "57. Title: Pather Panchali\n",
            "Desccription: Impoverished priest Harihar Ray, dreaming of a better life for himself and his family, leaves his rural Bengal village in search of work.\n",
            "\n",
            "58. Title: Network\n",
            "Desccription: A television network cynically exploits a deranged former anchor's ravings and revelations about the news media for its own profit, but finds that his message may be difficult to control.\n",
            "\n",
            "59. Title: Before Sunset\n",
            "Desccription: Nine years after Jesse and Celine first met, they encounter each other again on the French leg of Jesse's book tour.\n",
            "\n",
            "60. Title: The Best Years of Our Lives\n",
            "Desccription: Three World War II veterans, two of them traumatized or disabled, return home to the American midwest to discover that they and their families have been irreparably changed.\n",
            "\n",
            "61. Title: The Battle of Algiers\n",
            "Desccription: In the 1950s, fear and violence escalate as the people of Algiers fight for independence from the French government.\n",
            "\n",
            "62. Title: The Grapes of Wrath\n",
            "Desccription: An Oklahoma family, driven off their farm by the poverty and hopelessness of the Dust Bowl, joins the westward migration to California, suffering the misfortunes of the homeless in the Great Depression.\n",
            "\n",
            "63. Title: Rebecca\n",
            "Desccription: A self-conscious woman juggles adjusting to her new role as an aristocrat's wife and avoiding being intimidated by his first wife's spectral presence.\n",
            "\n",
            "64. Title: Amores perros\n",
            "Desccription: A horrific car accident connects three stories, each involving characters dealing with loss, regret, and life's harsh realities, all in the name of love.\n",
            "\n",
            "65. Title: My Father and My Son\n",
            "Desccription: The family of a left-wing journalist is torn apart after the military coup of Turkey in 1980.\n",
            "\n",
            "66. Title: Persona\n",
            "Desccription: A nurse is put in charge of a mute actress and finds that their personae are melding together.\n",
            "\n",
            "67. Title: The Handmaiden\n",
            "Desccription: A woman is hired as a handmaiden to a Japanese heiress, but secretly she is involved in a plot to defraud her.\n",
            "\n",
            "68. Title: The Help\n",
            "Desccription: An aspiring author during the civil rights movement of the 1960s decides to write a book detailing the African American maids' point of view on the white families for which they work, and the hardships they go through on a daily basis.\n",
            "\n",
            "Enter movie number to select it: 12\n",
            "Your selection: 12\n",
            "\n",
            "About the movie: \n",
            "\n",
            "title, Inception\n",
            "\n",
            "description, A thief who steals corporate secrets through the use of dream-sharing technology is given the inverse task of planting an idea into the mind of a C.E.O., but his tragic past may doom the project and his team to disaster.\n",
            "\n",
            "genre, Action\n",
            "\n",
            "image_url, https://m.media-amazon.com/images/M/MV5BMjAxMzY3NjcxNF5BMl5BanBnXkFtZTcwNTI5OTM0Mw@@._V1_UY67_CR0,0,45,67_AL_.jpg\n",
            "\n",
            "link, https://imdb.com/title/tt1375666/?pf_rd_m=A2FGELUUNOQJNL&pf_rd_p=1a264172-ae11-42e4-8ef7-7fed1973bb8f&pf_rd_r=VZEYAR8ZVPNKZ9V7MV87&pf_rd_s=center-1&pf_rd_t=15506&pf_rd_i=top&ref_=chttp_tt_13\n",
            "\n"
          ]
        }
      ],
      "source": [
        "## Write your code here\n",
        "def get_movie_by_index():\n",
        "  genre_choice = get_user_genre_choice()\n",
        "  movie_choices = get_movies_in_genre(genre_choice)\n",
        "\n",
        "  for index, movie in enumerate(movie_choices, start=1):\n",
        "    print(f\"{index}. Title: {movie['title']}\\nDesccription: {movie['description']}\\n\")\n",
        "\n",
        "  selected_movie_index = int(input(\"Enter movie number to select it: \"))\n",
        "  print(f\"Your selection: {selected_movie_index}\\n\")\n",
        "  print(f\"About the movie: \\n\")\n",
        "  for key, value in movies[selected_movie_index].items():\n",
        "    print(f\"{key}, {value}\\n\")\n",
        "\n",
        "get_movie_by_index()"
      ]
    },
    {
      "cell_type": "code",
      "execution_count": 21,
      "metadata": {
        "id": "9poXjEcXQjSq",
        "outputId": "2525f8ae-889e-4d2e-a9ae-4011f008c59d",
        "colab": {
          "base_uri": "https://localhost:8080/"
        }
      },
      "outputs": [
        {
          "output_type": "stream",
          "name": "stdout",
          "text": [
            "Great! The \"get_movie_by_index\" function is defined correctly\n",
            "You have completed the fourth milestone of the project! Congratulations!\n"
          ]
        }
      ],
      "source": [
        "#@title Run this cell to check your solution { display-mode: \"form\", run: \"auto\" }\n",
        "\n",
        "assert 'get_movie_by_index' in globals(), \"You need to define a function called get_movie_by_index\"\n",
        "task_3 = test_milestone_4.check_get_movie_by_index(get_movie_by_index, task_2)"
      ]
    },
    {
      "cell_type": "code",
      "source": [],
      "metadata": {
        "id": "jsr858JTRNSa"
      },
      "execution_count": null,
      "outputs": []
    }
  ],
  "metadata": {
    "colab": {
      "provenance": [],
      "include_colab_link": true
    },
    "kernelspec": {
      "display_name": "Python 3.9.5 ('base')",
      "language": "python",
      "name": "python3"
    },
    "language_info": {
      "codemirror_mode": {
        "name": "ipython",
        "version": 3
      },
      "file_extension": ".py",
      "mimetype": "text/x-python",
      "name": "python",
      "nbconvert_exporter": "python",
      "pygments_lexer": "ipython3",
      "version": "3.9.5 (default, Jun  4 2021, 12:28:51) \n[GCC 7.5.0]"
    },
    "orig_nbformat": 4,
    "vscode": {
      "interpreter": {
        "hash": "ce99af5845ff7f417c6fe57e3883abe41597db90e3f493c4f9da5159bbc46102"
      }
    }
  },
  "nbformat": 4,
  "nbformat_minor": 0
}