{
  "cells": [
    {
      "cell_type": "markdown",
      "metadata": {
        "id": "i_xLFYD8a_h3"
      },
      "source": [
        "# Movie Recommendation - Milestone 4\n"
      ]
    },
    {
      "cell_type": "markdown",
      "metadata": {
        "id": "aH4C-7CfQjSo"
      },
      "source": [
        "<details>\n",
        "  <summary>Click in any of these links to compare your solution with ours up to this point</summary>\n",
        "  <p>\n",
        "    <a href=\"https://colab.research.google.com/github/AI-Core/movie-recommendation-solutions/blob/main/solution_m1.ipynb\" target=\"_parent\">Solution for milestone 1</a>\n",
        "  </p>\n",
        "  <p>\n",
        "    <a href=\"https://colab.research.google.com/github/AI-Core/movie-recommendation-solutions/blob/main/solution_m2.ipynb\" target=\"_parent\">Solution for milestone 2</a>\n",
        "  </p>\n",
        "    <p>\n",
        "        <a href=\"https://colab.research.google.com/github/AI-Core/movie-recommendation-solutions/blob/main/solution_m3.ipynb\" target=\"_parent\">Solution for milestone 3</a>\n",
        "    </p>\n",
        "</details>"
      ]
    },
    {
      "cell_type": "code",
      "execution_count": 1,
      "metadata": {
        "colab": {
          "base_uri": "https://localhost:8080/"
        },
        "id": "99di9MqyQjSo",
        "outputId": "924b7005-279a-47b5-f8e8-e19addc2ffb7"
      },
      "outputs": [
        {
          "output_type": "stream",
          "name": "stdout",
          "text": [
            "  Preparing metadata (setup.py) ... \u001b[?25l\u001b[?25hdone\n",
            "  Preparing metadata (setup.py) ... \u001b[?25l\u001b[?25hdone\n",
            "  Building wheel for movie-rec-marking-aicore (setup.py) ... \u001b[?25l\u001b[?25hdone\n",
            "  Building wheel for timeout-decorator (setup.py) ... \u001b[?25l\u001b[?25hdone\n"
          ]
        }
      ],
      "source": [
        "#@title # Run the following cell to add the `movies` variable and the `get_unique_genres` and `get_movies_in_genre` functions will be available for you to use. { display-mode: \"form\" }\n",
        "#@markdown Don’t worry about what’s in this collapsed cell, you’re not expected to understand the code inside\n",
        "\n",
        "!pip install movie-rec-marking-aicore --upgrade --quiet\n",
        "!wget https://aicore-files.s3.amazonaws.com/Movie-Recommendation/movies.json --quiet\n",
        "from movie_rec_marking import test_milestone_4\n",
        "import json\n",
        "with open('movies.json', 'r') as f:\n",
        "    movies = json.load(f)\n",
        "\n",
        "def get_unique_genres():\n",
        "    genres = []\n",
        "    for movie in movies:\n",
        "        genres.append(movie[\"genre\"])\n",
        "    genres = set(genres)\n",
        "    return genres\n",
        "\n",
        "def get_movies_in_genre(genre):\n",
        "    movies_in_genre = []\n",
        "    for movie in movies:\n",
        "        if movie[\"genre\"] == genre:\n",
        "            movies_in_genre.append(movie)\n",
        "    return movies_in_genre"
      ]
    },
    {
      "cell_type": "markdown",
      "metadata": {
        "id": "MYQw48Lqa3Q4"
      },
      "source": [
        "# Task 1\n",
        "### Ask the user what genre they are interested in\n",
        "\n",
        "Before you ask a user for their input, print out all of the available options. Get this from your `get_unique_genre`s method defined earlier.\n",
        "\n",
        "Then, take a user input using the `input()` function and assign it to the variable genre_choice.\n",
        "\n",
        "Put all of this in a function called `get_user_genre_choice`.\n",
        "\n",
        "Open this notebook  to get started, and follow the instructions for this milestone.\n",
        "\n"
      ]
    },
    {
      "cell_type": "code",
      "execution_count": 12,
      "metadata": {
        "id": "1UpT9BAym0iW",
        "colab": {
          "base_uri": "https://localhost:8080/",
          "height": 71
        },
        "outputId": "d46b039b-3dca-4f31-c100-6405f52782bc"
      },
      "outputs": [
        {
          "name": "stdout",
          "output_type": "stream",
          "text": [
            "Please select a genre for your movie, here are your options: Comedy, Western, Drama, Crime, Animation, Mystery, Biography, Film-Noir, Adventure, Horror, Action\n",
            "Which genre would you like to choose? Comedy\n"
          ]
        },
        {
          "output_type": "execute_result",
          "data": {
            "text/plain": [
              "'Comedy'"
            ],
            "application/vnd.google.colaboratory.intrinsic+json": {
              "type": "string"
            }
          },
          "metadata": {},
          "execution_count": 12
        }
      ],
      "source": [
        "## Write your code here\n",
        "def get_user_genre_choice():\n",
        "  print(f\"Please select a genre for your movie, here are your options: {', '.join(get_unique_genres())}\")\n",
        "  genre_choice = input(\"Which genre would you like to choose? \")\n",
        "  return genre_choice\n",
        "\n",
        "get_user_genre_choice()"
      ]
    },
    {
      "cell_type": "code",
      "execution_count": 13,
      "metadata": {
        "colab": {
          "base_uri": "https://localhost:8080/"
        },
        "id": "FVSdsEHrQjSp",
        "outputId": "6ee4c913-6006-4270-fdfb-97da269a112e"
      },
      "outputs": [
        {
          "output_type": "stream",
          "name": "stdout",
          "text": [
            "Great! The \"get_user_genre_choice\" function prints the correct genre\n",
            "You can continue to the next task\n"
          ]
        }
      ],
      "source": [
        "#@title Run this cell to check your solution { display-mode: \"form\", run: \"auto\" }\n",
        "\n",
        "assert 'get_user_genre_choice' in globals(), \"You need to define a function called get_user_genre_choice\"\n",
        "task_1 = test_milestone_4.check_get_user_genre_choice(get_user_genre_choice)"
      ]
    },
    {
      "cell_type": "markdown",
      "metadata": {
        "id": "4eTsOfMzQjSp"
      },
      "source": [
        "# Task 2\n",
        "\n",
        "### Show the movies in the selected genre\n",
        "\n",
        "Write some code to show the movies in a selected genre (you don't need to define this as a function yet):\n",
        "\n",
        "Use your `get_movies_in_genre` function to get a list of movies in the genre selected.\n",
        "\n",
        "\n",
        "Print each movie within the selected genre on a new line. At the start of the line, print the integer index of the movie.\n",
        "\n",
        "\n",
        "Make sure to:\n",
        "\n",
        "- Use the built-in `enumerate` function\n",
        "- Use an f-string to format the printed text\n",
        "\n",
        "To avoid confusing users, make the indexing start from 1 rather than zero. For example, one line should look something like: `\"3: The Dark Knight\"`."
      ]
    },
    {
      "cell_type": "code",
      "execution_count": 44,
      "metadata": {
        "colab": {
          "base_uri": "https://localhost:8080/"
        },
        "id": "7JuxEJwYQjSp",
        "outputId": "5d5b3592-a374-405b-cab1-b0f8684f1b64"
      },
      "outputs": [
        {
          "output_type": "stream",
          "name": "stdout",
          "text": [
            "Please select a genre for your movie, here are your options: Comedy, Western, Drama, Crime, Animation, Mystery, Biography, Film-Noir, Adventure, Horror, Action\n",
            "Which genre would you like to choose? Crime\n",
            "1. Title: The Godfather\n",
            "Desccription: The aging patriarch of an organized crime dynasty in postwar New York City transfers control of his clandestine empire to his reluctant youngest son.\n",
            "\n",
            "2. Title: The Godfather: Part II\n",
            "Desccription: The early life and career of Vito Corleone in 1920s New York City is portrayed, while his son, Michael, expands and tightens his grip on the family crime syndicate.\n",
            "\n",
            "3. Title: 12 Angry Men\n",
            "Desccription: The jury in a New York City murder trial is frustrated by a single member whose skeptical caution forces them to more carefully consider the evidence before jumping to a hasty verdict.\n",
            "\n",
            "4. Title: Pulp Fiction\n",
            "Desccription: The lives of two mob hitmen, a boxer, a gangster and his wife, and a pair of diner bandits intertwine in four tales of violence and redemption.\n",
            "\n",
            "5. Title: Seven\n",
            "Desccription: Two detectives, a rookie and a veteran, hunt a serial killer who uses the seven deadly sins as his motives.\n",
            "\n",
            "6. Title: The Silence of the Lambs\n",
            "Desccription: A young F.B.I. cadet must receive the help of an incarcerated and manipulative cannibal killer to help catch another serial killer, a madman who skins his victims.\n",
            "\n",
            "7. Title: City of God\n",
            "Desccription: In the slums of Rio, two kids' paths diverge as one struggles to become a photographer and the other a kingpin.\n",
            "\n",
            "8. Title: The Green Mile\n",
            "Desccription: The lives of guards on Death Row are affected by one of their charges: a black man accused of child murder and rape, yet who has a mysterious gift.\n",
            "\n",
            "9. Title: American History X\n",
            "Desccription: A former neo-nazi skinhead tries to prevent his younger brother from going down the same wrong path that he did.\n",
            "\n",
            "10. Title: The Departed\n",
            "Desccription: An undercover cop and a mole in the police attempt to identify each other while infiltrating an Irish gang in South Boston.\n",
            "\n",
            "11. Title: The Usual Suspects\n",
            "Desccription: A sole survivor tells of the twisty events leading up to a horrific gun battle on a boat, which began when five criminals met at a seemingly random police lineup.\n",
            "\n",
            "12. Title: Witness for the Prosecution\n",
            "Desccription: A veteran British barrister must defend his client in a murder trial that has surprise after surprise.\n",
            "\n",
            "13. Title: Joker\n",
            "Desccription: A mentally troubled stand-up comedian embarks on a downward spiral that leads to the creation of an iconic villain.\n",
            "\n",
            "14. Title: Once Upon a Time in America\n",
            "Desccription: A former Prohibition-era Jewish gangster returns to the Lower East Side of Manhattan 35 years later, where he must once again confront the ghosts and regrets of his old life.\n",
            "\n",
            "15. Title: High and Low\n",
            "Desccription: An executive of a Yokohama shoe company becomes a victim of extortion when his chauffeur's son is kidnapped by mistake and held for ransom.\n",
            "\n",
            "16. Title: Reservoir Dogs\n",
            "Desccription: When a simple jewelry heist goes horribly wrong, the surviving criminals begin to suspect that one of them is a police informant.\n",
            "\n",
            "17. Title: M\n",
            "Desccription: When the police in a German city are unable to catch a child-murderer, other criminals join in the manhunt.\n",
            "\n",
            "18. Title: A Clockwork Orange\n",
            "Desccription: In the future, a sadistic gang leader is imprisoned and volunteers for a conduct-aversion experiment, but it doesn't go as planned.\n",
            "\n",
            "19. Title: Double Indemnity\n",
            "Desccription: A Los Angeles insurance representative lets an alluring housewife seduce him into a scheme of insurance fraud and murder that arouses the suspicion of his colleague, an insurance investigator.\n",
            "\n",
            "20. Title: Scarface\n",
            "Desccription: In 1980 Miami, a determined Cuban immigrant takes over a drug cartel and succumbs to greed.\n",
            "\n",
            "21. Title: To Kill a Mockingbird\n",
            "Desccription: Atticus Finch, a widowed lawyer in Depression-era Alabama, defends a black man against an undeserved rape charge, and his children against prejudice.\n",
            "\n",
            "22. Title: Taxi Driver\n",
            "Desccription: A mentally unstable veteran works as a nighttime taxi driver in New York City, where the perceived decadence and sleaze fuels his urge for violent action.\n",
            "\n",
            "23. Title: L.A. Confidential\n",
            "Desccription: As corruption grows in 1950s Los Angeles, three policemen - one strait-laced, one brutal, and one sleazy - investigate a series of murders with their own brand of justice.\n",
            "\n",
            "24. Title: Casino\n",
            "Desccription: A tale of greed, deception, money, power, and murder occur between two best friends: a mafia enforcer and a casino executive compete against each other over a gambling empire, and over a fast-living and fast-loving socialite.\n",
            "\n",
            "25. Title: Rashomon\n",
            "Desccription: The rape of a bride and the murder of her samurai husband are recalled from the perspectives of a bandit, the bride, the samurai's ghost and a woodcutter.\n",
            "\n",
            "26. Title: No Country for Old Men\n",
            "Desccription: Violence and mayhem ensue after a hunter stumbles upon a drug deal gone wrong and more than two million dollars in cash near the Rio Grande.\n",
            "\n",
            "27. Title: Dial M for Murder\n",
            "Desccription: A former tennis star arranges the murder of his adulterous wife.\n",
            "\n",
            "28. Title: Fargo\n",
            "Desccription: Minnesota car salesman Jerry Lundegaard's inept crime falls apart due to his and his henchmen's bungling and the persistent police work of the quite pregnant Marge Gunderson.\n",
            "\n",
            "29. Title: Prisoners\n",
            "Desccription: When Keller Dover's daughter and her friend go missing, he takes matters into his own hands as the police pursue multiple leads and the pressure mounts.\n",
            "\n",
            "30. Title: On the Waterfront\n",
            "Desccription: An ex-prize fighter turned New Jersey longshoreman struggles to stand up to his corrupt union bosses, including his older brother, as he starts to connect with the grieving sister of one of the syndicate's victims.\n",
            "\n",
            "31. Title: Memories of Murder\n",
            "Desccription: In a small Korean province in 1986, two detectives struggle with the case of multiple young women being found raped and murdered by an unknown culprit.\n",
            "\n",
            "32. Title: Jai Bhim\n",
            "Desccription: When a tribal man is arrested for a case of alleged theft, his wife turns to a human-rights lawyer to help bring justice.\n",
            "\n",
            "33. Title: La Haine\n",
            "Desccription: 24 hours in the lives of three young men in the French suburbs the day after a violent riot.\n",
            "\n",
            "34. Title: Cool Hand Luke\n",
            "Desccription: A laid back Southern man is sentenced to two years in a rural prison, but refuses to conform.\n",
            "\n",
            "35. Title: The 400 Blows\n",
            "Desccription: A young boy, left without attention, delves into a life of petty crime.\n",
            "\n"
          ]
        }
      ],
      "source": [
        "## Write your code here\n",
        "genre_choice = get_user_genre_choice()\n",
        "movie_choice = get_movies_in_genre(genre_choice)\n",
        "\n",
        "for index, movie in enumerate(movie_choice, start=1):\n",
        "  print(f\"{index}. Title: {movie['title']}\\nDesccription: {movie['description']}\\n\")"
      ]
    },
    {
      "cell_type": "code",
      "execution_count": 45,
      "metadata": {
        "colab": {
          "base_uri": "https://localhost:8080/"
        },
        "id": "ivQFIUwlQjSp",
        "outputId": "bde1a675-8212-47e3-e55f-5a5308ee4862"
      },
      "outputs": [
        {
          "output_type": "stream",
          "name": "stdout",
          "text": [
            "Great! The \"get_movies_in_genre\" function returns the correct movies\n",
            "You can continue to the next task\n"
          ]
        }
      ],
      "source": [
        "#@title Enter your solution here { display-mode: \"form\", run: \"auto\" }\n",
        "#@markdown For Action, which is the movie corresponding to index 12?\n",
        "first_movie = \"Gladiator\" #@param [\"The Dark Knight\", \"Leon\", \"Harakiri\", \"Gladiator\", \"Pirates of the Caribbean: The Curse of the Black Pearl\"] {allow-input: true}\n",
        "#@markdown For Drama, which is the movie corresponding to index 7?\n",
        "second_movie = \"Parasite\" #@param [\"The Help\", \"The Shawshank Redemption\", \"The Prestige\", \"Parasite\", \"Saving Private Ryan\"] {allow-input: true}\n",
        "\n",
        "#@markdown For Crime, which is the movie corresponding to index 26?\n",
        "third_movie = \"No Country for Old Men\" #@param [\"Rashomon\", \"Reservoir Dogs\", \"The Godfather\", \"No Country for Old Men\", \"Dial M for Murder\"] {allow-input: true}\n",
        "task_2 = test_milestone_4.check_get_movies_in_genre(first_movie, second_movie, third_movie, task_1)"
      ]
    },
    {
      "cell_type": "markdown",
      "metadata": {
        "id": "awz4lnb5QjSq"
      },
      "source": [
        "# Task 3\n",
        "\n",
        "### Select and display the details of a movie\n",
        "\n",
        "Define a new function called `get_movie_by_index`. It should first print out all the movies in the genre selected.\n",
        "\n",
        "Then, it should ask the user to select a movie by entering the index of the movie. Assign this to a variable named `selected_movie_index`.\n",
        "\n",
        "\n",
        "HINT: Be careful of what data type is returned from the `input()` function.\n",
        "\n",
        "Print the key-value pairs of the selected movie's dictionary each on a new line.\n",
        "\n",
        "On each line, print the key and the value, separated by a comma.\n",
        "\n",
        "\n",
        "Make sure to use the `.items()` method of the dictionary.\n",
        "\n",
        "\n",
        "Your program should end after this."
      ]
    },
    {
      "cell_type": "code",
      "execution_count": 48,
      "metadata": {
        "colab": {
          "base_uri": "https://localhost:8080/"
        },
        "id": "3qb3eLFyQjSq",
        "outputId": "b1aef783-4a35-451e-b7b2-f7a9c6e25aa3"
      },
      "outputs": [
        {
          "output_type": "stream",
          "name": "stdout",
          "text": [
            "1. The Godfather\n",
            "\n",
            "2. The Godfather: Part II\n",
            "\n",
            "3. 12 Angry Men\n",
            "\n",
            "4. Pulp Fiction\n",
            "\n",
            "5. Seven\n",
            "\n",
            "6. The Silence of the Lambs\n",
            "\n",
            "7. City of God\n",
            "\n",
            "8. The Green Mile\n",
            "\n",
            "9. American History X\n",
            "\n",
            "10. The Departed\n",
            "\n",
            "11. The Usual Suspects\n",
            "\n",
            "12. Witness for the Prosecution\n",
            "\n",
            "13. Joker\n",
            "\n",
            "14. Once Upon a Time in America\n",
            "\n",
            "15. High and Low\n",
            "\n",
            "16. Reservoir Dogs\n",
            "\n",
            "17. M\n",
            "\n",
            "18. A Clockwork Orange\n",
            "\n",
            "19. Double Indemnity\n",
            "\n",
            "20. Scarface\n",
            "\n",
            "21. To Kill a Mockingbird\n",
            "\n",
            "22. Taxi Driver\n",
            "\n",
            "23. L.A. Confidential\n",
            "\n",
            "24. Casino\n",
            "\n",
            "25. Rashomon\n",
            "\n",
            "26. No Country for Old Men\n",
            "\n",
            "27. Dial M for Murder\n",
            "\n",
            "28. Fargo\n",
            "\n",
            "29. Prisoners\n",
            "\n",
            "30. On the Waterfront\n",
            "\n",
            "31. Memories of Murder\n",
            "\n",
            "32. Jai Bhim\n",
            "\n",
            "33. La Haine\n",
            "\n",
            "34. Cool Hand Luke\n",
            "\n",
            "35. The 400 Blows\n",
            "\n"
          ]
        }
      ],
      "source": [
        "## Write your code here\n",
        "def get_movie_by_index():\n",
        "  for index, movie in enumerate(movie_choice, start=1):\n",
        "    print(f\"{index}. {movie['title']}\\n\")\n",
        "  selected_movie_index = int(input(\"Enter movie number to select it: \"))\n",
        "\n",
        "get_movie_by_index()"
      ]
    },
    {
      "cell_type": "code",
      "execution_count": null,
      "metadata": {
        "id": "9poXjEcXQjSq"
      },
      "outputs": [],
      "source": [
        "#@title Run this cell to check your solution { display-mode: \"form\", run: \"auto\" }\n",
        "\n",
        "assert 'get_movie_by_index' in globals(), \"You need to define a function called get_movie_by_index\"\n",
        "task_3 = test_milestone_4.check_get_movie_by_index(get_movie_by_index, task_2)"
      ]
    }
  ],
  "metadata": {
    "colab": {
      "provenance": []
    },
    "kernelspec": {
      "display_name": "Python 3.9.5 ('base')",
      "language": "python",
      "name": "python3"
    },
    "language_info": {
      "codemirror_mode": {
        "name": "ipython",
        "version": 3
      },
      "file_extension": ".py",
      "mimetype": "text/x-python",
      "name": "python",
      "nbconvert_exporter": "python",
      "pygments_lexer": "ipython3",
      "version": "3.9.5 (default, Jun  4 2021, 12:28:51) \n[GCC 7.5.0]"
    },
    "orig_nbformat": 4,
    "vscode": {
      "interpreter": {
        "hash": "ce99af5845ff7f417c6fe57e3883abe41597db90e3f493c4f9da5159bbc46102"
      }
    }
  },
  "nbformat": 4,
  "nbformat_minor": 0
}