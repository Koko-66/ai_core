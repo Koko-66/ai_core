{
  "cells": [
    {
      "cell_type": "markdown",
      "metadata": {
        "id": "i_xLFYD8a_h3"
      },
      "source": [
        "# Movie Recommendation - Milestone 3\n"
      ]
    },
    {
      "cell_type": "markdown",
      "metadata": {
        "id": "Ix2aB5vCHusj"
      },
      "source": [
        "<details>\n",
        "  <summary>Click in any of these links to compare your solution with ours up to this point</summary>\n",
        "  <p>\n",
        "    <a href=\"https://colab.research.google.com/github/AI-Core/movie-recommendation-solutions/blob/main/solution_m1.ipynb\" target=\"_parent\">Solution for milestone 1</a>\n",
        "  </p>\n",
        "    <p>\n",
        "        <a href=\"https://colab.research.google.com/github/AI-Core/movie-recommendation-solutions/blob/main/solution_m2.ipynb\" target=\"_parent\">Solution for milestone 2</a>\n",
        "    </p>\n",
        "</details>"
      ]
    },
    {
      "cell_type": "code",
      "execution_count": 1,
      "metadata": {
        "colab": {
          "base_uri": "https://localhost:8080/"
        },
        "id": "RLn-_E7Ba3Q4",
        "outputId": "81921bbe-676f-44fd-8992-268deef01b50"
      },
      "outputs": [
        {
          "output_type": "stream",
          "name": "stdout",
          "text": [
            "  Preparing metadata (setup.py) ... \u001b[?25l\u001b[?25hdone\n",
            "  Preparing metadata (setup.py) ... \u001b[?25l\u001b[?25hdone\n",
            "  Building wheel for movie-rec-marking-aicore (setup.py) ... \u001b[?25l\u001b[?25hdone\n",
            "  Building wheel for timeout-decorator (setup.py) ... \u001b[?25l\u001b[?25hdone\n"
          ]
        }
      ],
      "source": [
        "#@title # Run this cell to download the \"movies.json\" file. After running this, the file will be available in your workspace { display-mode: \"form\" }\n",
        "#@markdown Don’t worry about what’s in this collapsed cell, you’re not expected to understand the code inside\n",
        "!pip install movie-rec-marking-aicore --upgrade --quiet\n",
        "!wget https://aicore-files.s3.amazonaws.com/Movie-Recommendation/movies.json --quiet\n",
        "\n",
        "from movie_rec_marking import test_milestone_3"
      ]
    },
    {
      "cell_type": "markdown",
      "metadata": {
        "id": "MYQw48Lqa3Q4"
      },
      "source": [
        "# Task 1\n",
        "### Load in the full movies dataset from a file\n",
        "\n",
        "So far, the movies variable was initialised for you, but in this task, the list of movies is larger and are stored in a JSON (JavaScript Object Notation) file. The file is already available in this workspace if you ran the code cell above.\n",
        "\n",
        "Using a context manager, you will open the file movies.json and load the data from this file into a variable called movies.\n",
        "\n",
        "\n",
        "Put this inside a function named load_movies_data which takes no parameters and returns the list of movies, each as a dictionary."
      ]
    },
    {
      "cell_type": "code",
      "execution_count": 10,
      "metadata": {
        "id": "1UpT9BAym0iW"
      },
      "outputs": [],
      "source": [
        "import json\n",
        "## Write your code here\n",
        "def load_movies_data():\n",
        "  with open(\"movies.json\", \"r\") as file:\n",
        "    movies = json.load(file)\n",
        "    return movies\n",
        "\n",
        "movies = load_movies_data()"
      ]
    },
    {
      "cell_type": "code",
      "execution_count": 9,
      "metadata": {
        "id": "xKpCqCssHusk",
        "outputId": "f86e49ea-0270-4f1c-bc5d-355fb43f08de",
        "colab": {
          "base_uri": "https://localhost:8080/"
        }
      },
      "outputs": [
        {
          "output_type": "stream",
          "name": "stdout",
          "text": [
            "Great! The \"load_movies_data\" function returns the correct number of movies\n",
            "You can continue to the next task\n"
          ]
        }
      ],
      "source": [
        "#@title Run this cell to check your solution { display-mode: \"form\", run: \"auto\" }\n",
        "\n",
        "assert 'load_movies_data' in globals(), \"Please define the function load_movies_data\"\n",
        "task_1 = test_milestone_3.check_load_movies_data(load_movies_data)"
      ]
    },
    {
      "cell_type": "markdown",
      "metadata": {
        "id": "NEusAmr1Husk"
      },
      "source": [
        "# Task 2\n",
        "\n",
        "### What are the unique genres?\n",
        "\n",
        "Define a function called `get_unique_genres` that returns a set of unique genres. The function should return a set, not a list."
      ]
    },
    {
      "cell_type": "code",
      "execution_count": 11,
      "metadata": {
        "id": "oivD51KMHusk",
        "outputId": "ca1ee245-c190-49fa-f727-d623917d96fa",
        "colab": {
          "base_uri": "https://localhost:8080/"
        }
      },
      "outputs": [
        {
          "output_type": "stream",
          "name": "stdout",
          "text": [
            "{'Western', 'Biography', 'Mystery', 'Action', 'Animation', 'Adventure', 'Drama', 'Horror', 'Film-Noir', 'Comedy', 'Crime'}\n"
          ]
        }
      ],
      "source": [
        "## Write your code here\n",
        "\n",
        "def get_unique_genres(movies):\n",
        "  unique_genres = set([movie[\"genre\"] for movie in movies])\n",
        "  return unique_genres\n",
        "\n",
        "print(get_unique_genres(movies))"
      ]
    },
    {
      "cell_type": "code",
      "execution_count": null,
      "metadata": {
        "id": "_zqBuyVrHusk"
      },
      "outputs": [],
      "source": [
        "#@title Run this cell to check your solution { display-mode: \"form\", run: \"auto\" }\n",
        "\n",
        "assert 'get_unique_genres' in globals(), \"Please define the function get_unique_genres\"\n",
        "task_2 = test_milestone_3.check_get_unique_genres(get_unique_genres, task_1)"
      ]
    },
    {
      "cell_type": "markdown",
      "metadata": {
        "id": "mErFk3TEHusk"
      },
      "source": [
        "# Task 3\n",
        "\n",
        "### Filter by genre\n",
        "\n",
        "Define a function called `get_movies_in_genre` which returns a list of only movies in that genre. The function should take in a genre as a string.\n",
        "\n",
        "The movies should be returned in their usual dictionary format."
      ]
    },
    {
      "cell_type": "code",
      "execution_count": null,
      "metadata": {
        "id": "0pLqB7HlHusk"
      },
      "outputs": [],
      "source": [
        "## Write your code here"
      ]
    },
    {
      "cell_type": "code",
      "execution_count": null,
      "metadata": {
        "id": "8CMTXWp1Husk"
      },
      "outputs": [],
      "source": [
        "#@title Run this cell to check your solution { display-mode: \"form\", run: \"auto\" }\n",
        "\n",
        "assert 'get_movies_in_genre' in globals(), \"Please define the function get_movies_in_genre\"\n",
        "task_3 = test_milestone_3.check_get_movies_in_genre(get_movies_in_genre, task_2)"
      ]
    }
  ],
  "metadata": {
    "colab": {
      "provenance": []
    },
    "kernelspec": {
      "display_name": "Python 3.9.5 ('base')",
      "language": "python",
      "name": "python3"
    },
    "language_info": {
      "codemirror_mode": {
        "name": "ipython",
        "version": 3
      },
      "file_extension": ".py",
      "mimetype": "text/x-python",
      "name": "python",
      "nbconvert_exporter": "python",
      "pygments_lexer": "ipython3",
      "version": "3.10.8"
    },
    "orig_nbformat": 4,
    "vscode": {
      "interpreter": {
        "hash": "ce99af5845ff7f417c6fe57e3883abe41597db90e3f493c4f9da5159bbc46102"
      }
    }
  },
  "nbformat": 4,
  "nbformat_minor": 0
}