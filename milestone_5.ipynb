{
  "cells": [
    {
      "cell_type": "markdown",
      "metadata": {
        "id": "view-in-github",
        "colab_type": "text"
      },
      "source": [
        "<a href=\"https://colab.research.google.com/github/Koko-66/ai_core/blob/main/milestone_5.ipynb\" target=\"_parent\"><img src=\"https://colab.research.google.com/assets/colab-badge.svg\" alt=\"Open In Colab\"/></a>"
      ]
    },
    {
      "cell_type": "markdown",
      "metadata": {
        "id": "i_xLFYD8a_h3"
      },
      "source": [
        "# Movie Recommendation - Milestone 5\n"
      ]
    },
    {
      "cell_type": "markdown",
      "metadata": {
        "id": "TKG24d0EScqp"
      },
      "source": [
        "<details>\n",
        "  <summary>Click in any of these links to compare your solution with ours up to this point</summary>\n",
        "  <p>\n",
        "    <a href=\"https://colab.research.google.com/github/AI-Core/movie-recommendation-solutions/blob/main/solution_m1.ipynb\" target=\"_parent\">Solution for milestone 1</a>\n",
        "  </p>\n",
        "  <p>\n",
        "    <a href=\"https://colab.research.google.com/github/AI-Core/movie-recommendation-solutions/blob/main/solution_m2.ipynb\" target=\"_parent\">Solution for milestone 2</a>\n",
        "  </p>\n",
        "    <p>\n",
        "        <a href=\"https://colab.research.google.com/github/AI-Core/movie-recommendation-solutions/blob/main/solution_m3.ipynb\" target=\"_parent\">Solution for milestone 3</a>\n",
        "    </p>\n",
        "    <p>\n",
        "        <a href=\"https://colab.research.google.com/github/AI-Core/movie-recommendation-solutions/blob/main/solution_m4.ipynb\" target=\"_parent\">Solution for milestone 4</a>\n",
        "    </p>\n",
        "</details>"
      ]
    },
    {
      "cell_type": "code",
      "execution_count": 1,
      "metadata": {
        "id": "cN2NaVb6Scqq",
        "outputId": "2a2c7b09-e1d0-49c7-f69d-453e627f6b6c",
        "colab": {
          "base_uri": "https://localhost:8080/"
        }
      },
      "outputs": [
        {
          "output_type": "stream",
          "name": "stdout",
          "text": [
            "  Preparing metadata (setup.py) ... \u001b[?25l\u001b[?25hdone\n",
            "  Preparing metadata (setup.py) ... \u001b[?25l\u001b[?25hdone\n",
            "  Building wheel for movie-rec-marking-aicore (setup.py) ... \u001b[?25l\u001b[?25hdone\n",
            "  Building wheel for timeout-decorator (setup.py) ... \u001b[?25l\u001b[?25hdone\n"
          ]
        }
      ],
      "source": [
        "#@title # Run the following cell to add the `movies` variable to your workspace. { display-mode: \"form\" }\n",
        "#@markdown Don’t worry about what’s in this collapsed cell, you’re not expected to understand the code inside\n",
        "\n",
        "!pip install movie-rec-marking-aicore --upgrade --quiet\n",
        "!wget https://aicore-files.s3.amazonaws.com/Movie-Recommendation/movies.json --quiet\n",
        "from movie_rec_marking import test_milestone_5\n",
        "import json\n",
        "with open('movies.json', 'r') as f:\n",
        "    movies = json.load(f)"
      ]
    },
    {
      "cell_type": "code",
      "execution_count": 8,
      "metadata": {
        "id": "GCRW3HzIScqq"
      },
      "outputs": [],
      "source": [
        "# Run this cell to define the `get_unique_genres` and `get_user_genre_choice` functions.\n",
        "def get_unique_genres():\n",
        "    genres = []\n",
        "    for movie in movies:\n",
        "        genres.append(movie[\"genre\"])\n",
        "    genres = set(genres)\n",
        "    return genres\n",
        "\n",
        "def get_user_genre_choice():\n",
        "    print(\"Select a genre from the following set:\")\n",
        "    print(get_unique_genres())\n",
        "    genre_choice = input(\"Type a genre then hit enter...\\n\")\n",
        "    return genre_choice"
      ]
    },
    {
      "cell_type": "markdown",
      "metadata": {
        "id": "MYQw48Lqa3Q4"
      },
      "source": [
        "# Task 1\n",
        "### Validate the user's genre choice\n",
        "\n",
        "Redefine the `get_user_genre_choice` function to validate the input and make sure that it's actually one of the genres from the dataset.\n",
        "\n",
        "If the value is not valid, then raise an error."
      ]
    },
    {
      "cell_type": "code",
      "execution_count": 32,
      "metadata": {
        "id": "1UpT9BAym0iW",
        "outputId": "bd8a3457-35bd-475c-ac5b-f27046a78f57",
        "colab": {
          "base_uri": "https://localhost:8080/",
          "height": 411
        }
      },
      "outputs": [
        {
          "name": "stdout",
          "output_type": "stream",
          "text": [
            "Select a genre from the following set:\n",
            "{'Western', 'Comedy', 'Action', 'Crime', 'Film-Noir', 'Drama', 'Mystery', 'Horror', 'Adventure', 'Animation', 'Biography'}\n",
            "Type a genre then hit enter...\n",
            "comedy\n"
          ]
        },
        {
          "output_type": "error",
          "ename": "Exception",
          "evalue": "ignored",
          "traceback": [
            "\u001b[0;31m---------------------------------------------------------------------------\u001b[0m",
            "\u001b[0;31mException\u001b[0m                                 Traceback (most recent call last)",
            "\u001b[0;32m<ipython-input-32-2f5960cbcdce>\u001b[0m in \u001b[0;36m<cell line: 13>\u001b[0;34m()\u001b[0m\n\u001b[1;32m     11\u001b[0m         \u001b[0;32mraise\u001b[0m \u001b[0mException\u001b[0m\u001b[0;34m(\u001b[0m\u001b[0;34m\"This is not one of the valid options. Please check your spelling and try again\"\u001b[0m\u001b[0;34m)\u001b[0m\u001b[0;34m\u001b[0m\u001b[0;34m\u001b[0m\u001b[0m\n\u001b[1;32m     12\u001b[0m \u001b[0;34m\u001b[0m\u001b[0m\n\u001b[0;32m---> 13\u001b[0;31m \u001b[0mget_user_genre_choice\u001b[0m\u001b[0;34m(\u001b[0m\u001b[0;34m)\u001b[0m\u001b[0;34m\u001b[0m\u001b[0;34m\u001b[0m\u001b[0m\n\u001b[0m",
            "\u001b[0;32m<ipython-input-32-2f5960cbcdce>\u001b[0m in \u001b[0;36mget_user_genre_choice\u001b[0;34m()\u001b[0m\n\u001b[1;32m      9\u001b[0m         \u001b[0;32mreturn\u001b[0m \u001b[0mgenre_choice\u001b[0m\u001b[0;34m\u001b[0m\u001b[0;34m\u001b[0m\u001b[0m\n\u001b[1;32m     10\u001b[0m       \u001b[0;32melse\u001b[0m\u001b[0;34m:\u001b[0m\u001b[0;34m\u001b[0m\u001b[0;34m\u001b[0m\u001b[0m\n\u001b[0;32m---> 11\u001b[0;31m         \u001b[0;32mraise\u001b[0m \u001b[0mException\u001b[0m\u001b[0;34m(\u001b[0m\u001b[0;34m\"This is not one of the valid options. Please check your spelling and try again\"\u001b[0m\u001b[0;34m)\u001b[0m\u001b[0;34m\u001b[0m\u001b[0;34m\u001b[0m\u001b[0m\n\u001b[0m\u001b[1;32m     12\u001b[0m \u001b[0;34m\u001b[0m\u001b[0m\n\u001b[1;32m     13\u001b[0m \u001b[0mget_user_genre_choice\u001b[0m\u001b[0;34m(\u001b[0m\u001b[0;34m)\u001b[0m\u001b[0;34m\u001b[0m\u001b[0;34m\u001b[0m\u001b[0m\n",
            "\u001b[0;31mException\u001b[0m: This is not one of the valid options. Please check your spelling and try again"
          ]
        }
      ],
      "source": [
        "## Write your code here\n",
        "def get_user_genre_choice():\n",
        "    genres = get_unique_genres()\n",
        "    print(\"Select a genre from the following set:\")\n",
        "    print(genres)\n",
        "    while True:\n",
        "      genre_choice = input(\"Type a genre then hit enter...\\n\")\n",
        "      if genre_choice in genres:\n",
        "        return genre_choice\n",
        "      else:\n",
        "        raise Exception(\"This is not one of the valid options. Please check your spelling and try again\")\n",
        "\n",
        "get_user_genre_choice()"
      ]
    },
    {
      "cell_type": "code",
      "execution_count": 33,
      "metadata": {
        "id": "H9AhtOyPScqr",
        "outputId": "8414dff9-af4f-4a26-e606-176252e35a68",
        "colab": {
          "base_uri": "https://localhost:8080/"
        }
      },
      "outputs": [
        {
          "output_type": "stream",
          "name": "stdout",
          "text": [
            "Great! The \"get_user_genre_choice\" function raises an error when you use a genre that is not in the dataset\n",
            "You can continue to the next task\n"
          ]
        }
      ],
      "source": [
        "#@title Run this cell to check your solution { display-mode: \"form\", run: \"auto\" }\n",
        "\n",
        "assert 'get_user_genre_choice' in globals(), \"You need to define a function called get_user_genre_choice\"\n",
        "task_1 = test_milestone_5.check_first_get_user_genre_choice(get_user_genre_choice)"
      ]
    },
    {
      "cell_type": "markdown",
      "metadata": {
        "id": "88WO_EbCScqr"
      },
      "source": [
        "# Task 2\n",
        "\n",
        "### Raise a specific type of error\n",
        "\n",
        "Specifically, raise a `ValueError` with a useful error message \"This is not a valid genre\"."
      ]
    },
    {
      "cell_type": "code",
      "execution_count": 20,
      "metadata": {
        "id": "V4T3hKb2Scqr",
        "outputId": "38dfd244-5a9b-43f1-a5e3-22b86c6bf93b",
        "colab": {
          "base_uri": "https://localhost:8080/",
          "height": 107
        }
      },
      "outputs": [
        {
          "name": "stdout",
          "output_type": "stream",
          "text": [
            "Select a genre from the following set:\n",
            "{'Western', 'Comedy', 'Action', 'Crime', 'Film-Noir', 'Drama', 'Mystery', 'Horror', 'Adventure', 'Animation', 'Biography'}\n",
            "Type a genre then hit enter...\n",
            "Western\n"
          ]
        },
        {
          "output_type": "execute_result",
          "data": {
            "text/plain": [
              "'Western'"
            ],
            "application/vnd.google.colaboratory.intrinsic+json": {
              "type": "string"
            }
          },
          "metadata": {},
          "execution_count": 20
        }
      ],
      "source": [
        "## Write your code here\n",
        "\n",
        "def get_user_genre_choice():\n",
        "    genres = get_unique_genres()\n",
        "    print(\"Select a genre from the following set:\")\n",
        "    print(genres)\n",
        "    while True:\n",
        "      genre_choice = input(\"Type a genre then hit enter...\\n\")\n",
        "      if genre_choice in genres:\n",
        "        return genre_choice\n",
        "      else:\n",
        "        raise ValueError(\"This is ot a valid genre\")\n",
        "\n",
        "get_user_genre_choice()"
      ]
    },
    {
      "cell_type": "code",
      "execution_count": 21,
      "metadata": {
        "id": "jcvy1fDlScqr",
        "outputId": "6c8ae560-d0a8-4b12-83d2-74e5445eaff0",
        "colab": {
          "base_uri": "https://localhost:8080/"
        }
      },
      "outputs": [
        {
          "output_type": "stream",
          "name": "stdout",
          "text": [
            "Great! The \"get_user_genre_choice\" function raises a ValueError exception when you use a genre that is not in the dataset\n",
            "You can continue to the next task\n"
          ]
        }
      ],
      "source": [
        "#@title Run this cell to check your solution { display-mode: \"form\", run: \"auto\" }\n",
        "\n",
        "assert 'get_user_genre_choice' in globals(), \"You need to define a function called get_user_genre_choice\"\n",
        "task_2 = test_milestone_5.check_second_get_user_genre_choice(get_user_genre_choice, task_1)"
      ]
    },
    {
      "cell_type": "markdown",
      "metadata": {
        "id": "5gsU4wgFScqr"
      },
      "source": [
        "# Task 3\n",
        "\n",
        "### Handle the error\n",
        "\n",
        "If the genre selected is not valid, and your code successfully raises an error when that is the case, handle the error so that instead of your code failing and stopping, it asks the user to try again.\n",
        "\n",
        "\n",
        "HINT: You may want to use an infinite `while` loop, and break out of it only if the error is not raised.\n",
        "\n",
        "\n",
        "The code should handle only the specific type of error that is raised if the genre is not valid."
      ]
    },
    {
      "cell_type": "code",
      "execution_count": 34,
      "metadata": {
        "id": "QE60TqBvScqs",
        "outputId": "38dfdfe6-efd3-439e-f936-1865582f988d",
        "colab": {
          "base_uri": "https://localhost:8080/",
          "height": 214
        }
      },
      "outputs": [
        {
          "name": "stdout",
          "output_type": "stream",
          "text": [
            "Select a genre from the following set:\n",
            "{'Western', 'Comedy', 'Action', 'Crime', 'Film-Noir', 'Drama', 'Mystery', 'Horror', 'Adventure', 'Animation', 'Biography'}\n",
            "Type a genre then hit enter...\n",
            "adfa\n",
            "This is ot a valid genre\n",
            "Type a genre then hit enter...\n",
            "da\n",
            "This is ot a valid genre\n",
            "Type a genre then hit enter...\n",
            "Western\n"
          ]
        },
        {
          "output_type": "execute_result",
          "data": {
            "text/plain": [
              "'Western'"
            ],
            "application/vnd.google.colaboratory.intrinsic+json": {
              "type": "string"
            }
          },
          "metadata": {},
          "execution_count": 34
        }
      ],
      "source": [
        "## Write your code here\n",
        "\n",
        "\n",
        "def get_user_genre_choice():\n",
        "    genres = get_unique_genres()\n",
        "    print(\"Select a genre from the following set:\")\n",
        "    print(genres)\n",
        "    while True:\n",
        "        genre_choice = input(\"Type a genre then hit enter...\\n\")\n",
        "        try:\n",
        "          if genre_choice in genres:\n",
        "            return genre_choice\n",
        "          else:\n",
        "            raise ValueError(\"This is ot a valid genre\")\n",
        "        except ValueError as e:\n",
        "          print(e)\n",
        "\n",
        "get_user_genre_choice()"
      ]
    },
    {
      "cell_type": "code",
      "execution_count": 35,
      "metadata": {
        "id": "B0nm6WriScqs",
        "outputId": "e30f574d-e9d5-4fee-a7c2-79df8675e266",
        "colab": {
          "base_uri": "https://localhost:8080/"
        }
      },
      "outputs": [
        {
          "output_type": "stream",
          "name": "stdout",
          "text": [
            "Great! The \"get_user_genre_choice\" function works correctly\n",
            "Congratulations! You completed the project!\n"
          ]
        }
      ],
      "source": [
        "#@title Run this cell to check your solution { display-mode: \"form\", run: \"auto\" }\n",
        "\n",
        "assert 'get_user_genre_choice' in globals(), \"You need to define a function called get_user_genre_choice\"\n",
        "task_3 = test_milestone_5.check_third_get_user_genre_choice(get_user_genre_choice, task_2)"
      ]
    },
    {
      "cell_type": "code",
      "source": [],
      "metadata": {
        "id": "O4mok7Z9bY5O"
      },
      "execution_count": null,
      "outputs": []
    }
  ],
  "metadata": {
    "colab": {
      "provenance": [],
      "include_colab_link": true
    },
    "kernelspec": {
      "display_name": "Python 3.9.5 ('base')",
      "language": "python",
      "name": "python3"
    },
    "language_info": {
      "codemirror_mode": {
        "name": "ipython",
        "version": 3
      },
      "file_extension": ".py",
      "mimetype": "text/x-python",
      "name": "python",
      "nbconvert_exporter": "python",
      "pygments_lexer": "ipython3",
      "version": "3.9.5 (default, Jun  4 2021, 12:28:51) \n[GCC 7.5.0]"
    },
    "orig_nbformat": 4,
    "vscode": {
      "interpreter": {
        "hash": "ce99af5845ff7f417c6fe57e3883abe41597db90e3f493c4f9da5159bbc46102"
      }
    }
  },
  "nbformat": 4,
  "nbformat_minor": 0
}